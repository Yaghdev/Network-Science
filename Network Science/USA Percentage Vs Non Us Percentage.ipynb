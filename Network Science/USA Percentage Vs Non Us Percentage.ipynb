{
 "cells": [
  {
   "cell_type": "code",
   "execution_count": 135,
   "metadata": {},
   "outputs": [],
   "source": [
    "import pandas as pd\n",
    "import matplotlib.pyplot as plt\n",
    "import plotly\n",
    "import plotly.plotly as py\n",
    "import plotly.graph_objs as go\n",
    "import numpy as np\n",
    "plotly.tools.set_credentials_file(username='yaghdev', api_key='BZvETrFTjtGisnoBsxAP')"
   ]
  },
  {
   "cell_type": "code",
   "execution_count": 136,
   "metadata": {},
   "outputs": [],
   "source": [
    "\n",
    "usa_length = []\n",
    "year = [2005, 2006, 2007, 2008, 2009, 2010, 2011, 2012, 2013, 2014, 2015, 2016, 2017]\n",
    "list = np.array(['Accounting'])\n",
    "\n",
    "for area in list:    \n",
    "    file_location = 'C:/Users/Krishan/Downloads/FT50_WOS/results/'+str(area)+'/'\n",
    "    \n",
    "    for x in year:\n",
    "        excel = pd.read_excel(file_location+'/Insitutional_'+str(area)+'_'+str(x)+'.xlsx')\n",
    "        excel = excel.sort_values(by='page rank', ascending=False)\n",
    "          \n",
    "\n",
    "        insitute_with_in_usa = excel.loc[excel['Insitute'].apply(lambda x: x[-4:] == 'USA.')]\n",
    "        insitute_with_in_usa = insitute_with_in_usa.sort_values(by='page rank', ascending=False)\n",
    "        usa_length.append(len(insitute_with_in_usa))\n",
    "    \n",
    "    non_usa_length = []\n",
    "    \n",
    "    for x in year:\n",
    "        excel = pd.read_excel(file_location+'/Insitutional_'+str(area)+'_'+str(x)+'.xlsx')\n",
    "        excel = excel.sort_values(by='page rank', ascending=False)\n",
    "            \n",
    "        insitute_with_in_usa = excel.loc[excel['Insitute'].apply(lambda x: x[-4:] != 'USA.')]\n",
    "        insitute_with_in_usa = insitute_with_in_usa.sort_values(by='page rank', ascending=False)\n",
    "        non_usa_length.append(len(insitute_with_in_usa))"
   ]
  },
  {
   "cell_type": "code",
   "execution_count": 139,
   "metadata": {},
   "outputs": [
    {
     "name": "stdout",
     "output_type": "stream",
     "text": [
      "[131 164 176 199 203 196 230 237 219 213 252 273 245]\n",
      "[ 75  71 100 118 132 126 132 127 166 171 166 165 176]\n"
     ]
    }
   ],
   "source": [
    "usa_length = np.array(usa_length)\n",
    "non_usa_length = np.array(non_usa_length)\n",
    "usa_percentage = (usa_length/(usa_length + non_usa_length))*100\n",
    "\n",
    "usa_length = np.array(usa_length)\n",
    "non_usa_length = np.array(non_usa_length)\n",
    "non_us_percentage = (non_usa_length/(usa_length + non_usa_length))*100\n",
    "print(usa_length)\n",
    "print(non_usa_length)"
   ]
  },
  {
   "cell_type": "code",
   "execution_count": 138,
   "metadata": {},
   "outputs": [
    {
     "data": {
      "text/html": [
       "<iframe id=\"igraph\" scrolling=\"no\" style=\"border:none;\" seamless=\"seamless\" src=\"https://plot.ly/~yaghdev/8.embed\" height=\"525px\" width=\"100%\"></iframe>"
      ],
      "text/plain": [
       "<plotly.tools.PlotlyDisplay object>"
      ]
     },
     "execution_count": 138,
     "metadata": {},
     "output_type": "execute_result"
    }
   ],
   "source": [
    "usa_per = go.Scatter(\n",
    "    x = year,\n",
    "    y = usa_percentage,\n",
    "    name = 'USA Percentage'     \n",
    ")\n",
    "\n",
    "non_usa_per = go.Scatter(\n",
    "    x = year,\n",
    "    y = non_us_percentage,\n",
    "    name = 'NON USA Percentage'     \n",
    ")\n",
    "\n",
    "\n",
    "data = [usa_per, non_usa_per]\n",
    "py.iplot(data, filename='line')"
   ]
  },
  {
   "cell_type": "code",
   "execution_count": null,
   "metadata": {},
   "outputs": [],
   "source": []
  }
 ],
 "metadata": {
  "kernelspec": {
   "display_name": "Python 3",
   "language": "python",
   "name": "python3"
  },
  "language_info": {
   "codemirror_mode": {
    "name": "ipython",
    "version": 3
   },
   "file_extension": ".py",
   "mimetype": "text/x-python",
   "name": "python",
   "nbconvert_exporter": "python",
   "pygments_lexer": "ipython3",
   "version": "3.6.5"
  }
 },
 "nbformat": 4,
 "nbformat_minor": 2
}
