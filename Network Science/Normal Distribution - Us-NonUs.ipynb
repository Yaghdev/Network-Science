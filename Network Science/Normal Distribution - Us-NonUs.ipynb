{
 "cells": [
  {
   "cell_type": "code",
   "execution_count": 24,
   "metadata": {},
   "outputs": [],
   "source": [
    "import pandas as pd\n",
    "import matplotlib.pyplot as plt\n",
    "import plotly\n",
    "import plotly.plotly as py\n",
    "import plotly.graph_objs as go\n",
    "import numpy as np\n",
    "import plotly.figure_factory as ff\n",
    "plotly.tools.set_credentials_file(username='yaghdev', api_key='BZvETrFTjtGisnoBsxAP')"
   ]
  },
  {
   "cell_type": "code",
   "execution_count": 31,
   "metadata": {},
   "outputs": [
    {
     "data": {
      "text/html": [
       "<div>\n",
       "<style scoped>\n",
       "    .dataframe tbody tr th:only-of-type {\n",
       "        vertical-align: middle;\n",
       "    }\n",
       "\n",
       "    .dataframe tbody tr th {\n",
       "        vertical-align: top;\n",
       "    }\n",
       "\n",
       "    .dataframe thead th {\n",
       "        text-align: right;\n",
       "    }\n",
       "</style>\n",
       "<table border=\"1\" class=\"dataframe\">\n",
       "  <thead>\n",
       "    <tr style=\"text-align: right;\">\n",
       "      <th></th>\n",
       "      <th>eigenvector</th>\n",
       "      <th>closeness centrality</th>\n",
       "      <th>betweenness centrality</th>\n",
       "      <th>page rank</th>\n",
       "      <th>degree</th>\n",
       "    </tr>\n",
       "  </thead>\n",
       "  <tbody>\n",
       "    <tr>\n",
       "      <th>count</th>\n",
       "      <td>2.450000e+02</td>\n",
       "      <td>245.000000</td>\n",
       "      <td>245.000000</td>\n",
       "      <td>245.000000</td>\n",
       "      <td>245.000000</td>\n",
       "    </tr>\n",
       "    <tr>\n",
       "      <th>mean</th>\n",
       "      <td>2.705347e-02</td>\n",
       "      <td>0.046912</td>\n",
       "      <td>0.002405</td>\n",
       "      <td>0.002449</td>\n",
       "      <td>0.006686</td>\n",
       "    </tr>\n",
       "    <tr>\n",
       "      <th>std</th>\n",
       "      <td>5.742298e-02</td>\n",
       "      <td>0.043088</td>\n",
       "      <td>0.007400</td>\n",
       "      <td>0.001270</td>\n",
       "      <td>0.005703</td>\n",
       "    </tr>\n",
       "    <tr>\n",
       "      <th>min</th>\n",
       "      <td>-3.890725e-17</td>\n",
       "      <td>0.000000</td>\n",
       "      <td>0.000000</td>\n",
       "      <td>0.000369</td>\n",
       "      <td>0.000000</td>\n",
       "    </tr>\n",
       "    <tr>\n",
       "      <th>25%</th>\n",
       "      <td>-4.252982e-18</td>\n",
       "      <td>0.004762</td>\n",
       "      <td>0.000000</td>\n",
       "      <td>0.001805</td>\n",
       "      <td>0.002381</td>\n",
       "    </tr>\n",
       "    <tr>\n",
       "      <th>50%</th>\n",
       "      <td>3.520362e-04</td>\n",
       "      <td>0.056851</td>\n",
       "      <td>0.000000</td>\n",
       "      <td>0.002460</td>\n",
       "      <td>0.004762</td>\n",
       "    </tr>\n",
       "    <tr>\n",
       "      <th>75%</th>\n",
       "      <td>3.242160e-02</td>\n",
       "      <td>0.088268</td>\n",
       "      <td>0.000244</td>\n",
       "      <td>0.002460</td>\n",
       "      <td>0.007143</td>\n",
       "    </tr>\n",
       "    <tr>\n",
       "      <th>max</th>\n",
       "      <td>3.242597e-01</td>\n",
       "      <td>0.128772</td>\n",
       "      <td>0.053446</td>\n",
       "      <td>0.009523</td>\n",
       "      <td>0.038095</td>\n",
       "    </tr>\n",
       "  </tbody>\n",
       "</table>\n",
       "</div>"
      ],
      "text/plain": [
       "        eigenvector  closeness centrality  betweenness centrality   page rank  \\\n",
       "count  2.450000e+02            245.000000              245.000000  245.000000   \n",
       "mean   2.705347e-02              0.046912                0.002405    0.002449   \n",
       "std    5.742298e-02              0.043088                0.007400    0.001270   \n",
       "min   -3.890725e-17              0.000000                0.000000    0.000369   \n",
       "25%   -4.252982e-18              0.004762                0.000000    0.001805   \n",
       "50%    3.520362e-04              0.056851                0.000000    0.002460   \n",
       "75%    3.242160e-02              0.088268                0.000244    0.002460   \n",
       "max    3.242597e-01              0.128772                0.053446    0.009523   \n",
       "\n",
       "           degree  \n",
       "count  245.000000  \n",
       "mean     0.006686  \n",
       "std      0.005703  \n",
       "min      0.000000  \n",
       "25%      0.002381  \n",
       "50%      0.004762  \n",
       "75%      0.007143  \n",
       "max      0.038095  "
      ]
     },
     "execution_count": 31,
     "metadata": {},
     "output_type": "execute_result"
    }
   ],
   "source": [
    "year = ['2005', '2006', '2007', '2008', '2009', '2010', '2011', '2012', '2013', '2014', '2015', '2016', '2017']\n",
    "ary = ['Accounting','Economics','Economics, Management', 'Entrepreneurship', 'Ethics', 'Finance', 'Human Resources', 'International Business', 'Management','Marketing', 'Operations & InformationSystems', 'Organizational Behaviour']\n",
    "\n",
    "for area in year:\n",
    "    excel = pd.read_excel('C:/Users/Krishan/Downloads/FT50_WOS/results/Accounting/Insitutional_Accounting_'+str(area)+'.xlsx')\n",
    "    excel= excel.sort_values(by='eigenvector', ascending=False)\n",
    "    #excel['modularity_class'].value_counts()     \n",
    "    usa = excel.loc[excel['Insitute'].apply(lambda x: x[-4:] == 'USA.')]\n",
    "    non_usa = excel.loc[excel['Insitute'].apply(lambda x: x[-4:] != 'USA.')]\n",
    "usa.describe()"
   ]
  },
  {
   "cell_type": "code",
   "execution_count": 29,
   "metadata": {},
   "outputs": [
    {
     "name": "stdout",
     "output_type": "stream",
     "text": [
      "[ 3.24259672e-01  3.18427113e-01  3.00925486e-01  2.77357408e-01\n",
      "  2.61579969e-01  2.47956033e-01  2.13970260e-01  2.08179399e-01\n",
      "  2.03260205e-01  2.01157876e-01  1.73588208e-01  1.69480522e-01\n",
      "  1.58003291e-01  1.27785656e-01  1.26727901e-01  1.23765273e-01\n",
      "  1.13608171e-01  1.11121542e-01  1.10671444e-01  9.70549556e-02\n",
      "  8.39256329e-02  8.28176927e-02  7.98961273e-02  7.95657687e-02\n",
      "  7.41571520e-02  6.68675717e-02  6.52370202e-02  6.41210991e-02\n",
      "  5.94245422e-02  5.94245422e-02  5.94245422e-02  5.94245422e-02\n",
      "  5.85078059e-02  5.75869856e-02  5.74055890e-02  5.26492728e-02\n",
      "  5.26283490e-02  5.15041051e-02  5.09804012e-02  5.08627851e-02\n",
      "  4.84101490e-02  4.72640702e-02  4.71869696e-02  4.62954568e-02\n",
      "  4.62730475e-02  4.62022427e-02  4.52324596e-02  4.31073409e-02\n",
      "  4.27608029e-02  4.26490049e-02  4.20430026e-02  4.09849262e-02\n",
      "  4.05096542e-02  4.02957421e-02  3.91420770e-02  3.91420770e-02\n",
      "  3.79727696e-02  3.78935459e-02  3.58190900e-02  3.39063505e-02\n",
      "  3.31167215e-02  3.24216029e-02  3.15957509e-02  3.12551431e-02\n",
      "  3.07964074e-02  3.07964074e-02  2.59142689e-02  2.31711754e-02\n",
      "  2.29366101e-02  2.19345117e-02  2.19345117e-02  1.91343048e-02\n",
      "  1.59171695e-02  1.44866329e-02  1.44866329e-02  1.44866329e-02\n",
      "  1.40456599e-02  1.18542581e-02  1.18542581e-02  1.17932952e-02\n",
      "  1.15516075e-02  1.15376809e-02  1.10807837e-02  1.07029928e-02\n",
      "  1.05729883e-02  1.02713824e-02  9.56693099e-03  9.56693099e-03\n",
      "  9.54309387e-03  8.09583242e-03  7.83921150e-03  7.27653144e-03\n",
      "  7.26775455e-03  7.23451649e-03  7.22013051e-03  7.03840159e-03\n",
      "  6.85817460e-03  6.79240337e-03  6.57529109e-03  5.21565298e-03\n",
      "  4.21044821e-03  4.21044821e-03  3.35914382e-03  2.96410176e-03\n",
      "  2.66999810e-03  2.47035630e-03  2.44756917e-03  2.43777591e-03\n",
      "  2.38781698e-03  2.15978878e-03  1.92122406e-03  1.92122406e-03\n",
      "  1.81344465e-03  1.39162578e-03  1.31458834e-03  1.31458834e-03\n",
      "  1.15767635e-03  1.11890585e-03  8.02006377e-04  4.90264370e-04\n",
      "  4.10563261e-04  3.52036211e-04  3.52036211e-04  1.20365612e-04\n",
      "  8.90862332e-05  8.90862332e-05  1.25608075e-16  6.51923680e-17\n",
      "  4.47238905e-17  3.23560971e-17  2.66360605e-17  2.57312362e-17\n",
      "  2.55703565e-17  2.50316905e-17  2.34365744e-17  2.18813573e-17\n",
      "  1.84297340e-17  1.76780779e-17  1.54112849e-17  1.46739535e-17\n",
      "  1.05641901e-17  9.58184330e-18  9.11898126e-18  8.46369977e-18\n",
      "  8.41969287e-18  8.25407613e-18  7.77211518e-18  7.67934190e-18\n",
      "  7.42573215e-18  7.35989620e-18  6.15180043e-18  5.82991444e-18\n",
      "  4.98405134e-18  4.58155251e-18  4.32659052e-18  3.97601127e-18\n",
      "  3.25864991e-18  3.25655860e-18  3.23795780e-18  3.07407384e-18\n",
      "  2.96736598e-18  2.78708779e-18  2.74269213e-18  2.52205185e-18\n",
      "  2.63724267e-19  1.13799109e-19 -6.67079144e-20 -2.29041350e-19\n",
      " -2.95988517e-19 -6.50392849e-19 -8.90985403e-19 -9.35320940e-19\n",
      " -1.15671750e-18 -1.53632378e-18 -1.64759247e-18 -2.05532005e-18\n",
      " -2.12628310e-18 -2.32892480e-18 -2.88548313e-18 -3.04334782e-18\n",
      " -3.16676026e-18 -3.87897950e-18 -4.25246697e-18 -4.25298235e-18\n",
      " -4.67381733e-18 -4.75791892e-18 -5.08224497e-18 -5.81182983e-18\n",
      " -5.86334932e-18 -6.01646398e-18 -6.06102271e-18 -6.10955674e-18\n",
      " -6.29277518e-18 -6.30044739e-18 -6.66357265e-18 -7.62334977e-18\n",
      " -7.67797418e-18 -8.46008015e-18 -8.61297685e-18 -8.73801131e-18\n",
      " -8.79166792e-18 -8.99883828e-18 -9.45051917e-18 -9.73947191e-18\n",
      " -1.00660963e-17 -1.03318516e-17 -1.04028507e-17 -1.04448648e-17\n",
      " -1.05325599e-17 -1.06649635e-17 -1.07397824e-17 -1.13227892e-17\n",
      " -1.15641682e-17 -1.16953596e-17 -1.18319918e-17 -1.34432450e-17\n",
      " -1.36879746e-17 -1.42496364e-17 -1.43138453e-17 -1.44785618e-17\n",
      " -1.48317397e-17 -1.53585378e-17 -1.55745025e-17 -1.56021061e-17\n",
      " -1.66980401e-17 -1.72943235e-17 -1.77083056e-17 -1.93248164e-17\n",
      " -1.94116471e-17 -2.02612131e-17 -2.04044444e-17 -2.16028453e-17\n",
      " -2.18999187e-17 -2.32983592e-17 -2.47537925e-17 -2.52755148e-17\n",
      " -2.59128535e-17 -2.62042228e-17 -2.97739080e-17 -2.97832497e-17\n",
      " -3.05537950e-17 -3.27638173e-17 -3.28655674e-17 -3.87093238e-17\n",
      " -3.89072456e-17]\n"
     ]
    },
    {
     "data": {
      "text/html": [
       "<iframe id=\"igraph\" scrolling=\"no\" style=\"border:none;\" seamless=\"seamless\" src=\"https://plot.ly/~yaghdev/12.embed\" height=\"525px\" width=\"100%\"></iframe>"
      ],
      "text/plain": [
       "<plotly.tools.PlotlyDisplay object>"
      ]
     },
     "execution_count": 29,
     "metadata": {},
     "output_type": "execute_result"
    }
   ],
   "source": [
    "import plotly.plotly as py\n",
    "import plotly.figure_factory as ff\n",
    "\n",
    "import numpy as np\n",
    "\n",
    "x = usa.iloc[:,1].values\n",
    "print(x)\n",
    "data = [go.Histogram(x=x, histnorm='probability')]\n",
    "\n",
    "py.iplot(data, filename='normalized histogram')"
   ]
  },
  {
   "cell_type": "code",
   "execution_count": 27,
   "metadata": {},
   "outputs": [
    {
     "data": {
      "text/html": [
       "<iframe id=\"igraph\" scrolling=\"no\" style=\"border:none;\" seamless=\"seamless\" src=\"https://plot.ly/~yaghdev/10.embed\" height=\"525px\" width=\"100%\"></iframe>"
      ],
      "text/plain": [
       "<plotly.tools.PlotlyDisplay object>"
      ]
     },
     "execution_count": 27,
     "metadata": {},
     "output_type": "execute_result"
    }
   ],
   "source": [
    "hist_data = [usa.iloc[:,1].values]\n",
    "group_labels = ['distplot']\n",
    "\n",
    "fig = ff.create_distplot(hist_data, group_labels)\n",
    "py.iplot(fig, filename='Basic Distplot')"
   ]
  }
 ],
 "metadata": {
  "kernelspec": {
   "display_name": "Python 3",
   "language": "python",
   "name": "python3"
  },
  "language_info": {
   "codemirror_mode": {
    "name": "ipython",
    "version": 3
   },
   "file_extension": ".py",
   "mimetype": "text/x-python",
   "name": "python",
   "nbconvert_exporter": "python",
   "pygments_lexer": "ipython3",
   "version": "3.6.5"
  }
 },
 "nbformat": 4,
 "nbformat_minor": 2
}
