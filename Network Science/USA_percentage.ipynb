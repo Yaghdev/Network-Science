{
 "cells": [
  {
   "cell_type": "code",
   "execution_count": 6,
   "metadata": {},
   "outputs": [],
   "source": [
    "import pandas as pd\n",
    "import matplotlib.pyplot as plt\n",
    "import plotly\n",
    "import plotly.plotly as py\n",
    "import plotly.graph_objs as go\n",
    "import numpy as np\n",
    "plotly.tools.set_credentials_file(username='yaghdev', api_key='BZvETrFTjtGisnoBsxAP')"
   ]
  },
  {
   "cell_type": "code",
   "execution_count": 7,
   "metadata": {},
   "outputs": [],
   "source": [
    "file_location = 'D:/Institutional_Ft50_Yearwise/'\n",
    "usa_length = []\n",
    "year = [2005, 2006, 2007, 2008, 2009, 2010, 2011, 2012, 2013, 2014, 2015, 2016, 2017]\n",
    "for x in year:\n",
    "    excel = pd.read_excel(file_location+'Insitutionalyear_'+str(x)+'.xlsx')\n",
    "    excel = excel.sort_values(by='degree', ascending=False)\n",
    "    #excel = excel[:20]    \n",
    "    insitute_with_in_usa = excel.loc[excel['Insitute'].apply(lambda x: x[-4:] == 'USA.')]\n",
    "    insitute_with_in_usa = insitute_with_in_usa.sort_values(by='degree', ascending=False)\n",
    "    usa_length.append(len(insitute_with_in_usa))"
   ]
  },
  {
   "cell_type": "code",
   "execution_count": 8,
   "metadata": {},
   "outputs": [],
   "source": [
    "non_usa_length = []\n",
    "for x in year:\n",
    "    excel = pd.read_excel(file_location+'Insitutionalyear_'+str(x)+'.xlsx')\n",
    "    excel = excel.sort_values(by='degree', ascending=False)\n",
    "    #excel = excel[:20]    \n",
    "    insitute_with_in_usa = excel.loc[excel['Insitute'].apply(lambda x: x[-4:] != 'USA.')]\n",
    "    insitute_with_in_usa = insitute_with_in_usa.sort_values(by='degree', ascending=False)\n",
    "    non_usa_length.append(len(insitute_with_in_usa))\n",
    "    "
   ]
  },
  {
   "cell_type": "code",
   "execution_count": 9,
   "metadata": {},
   "outputs": [
    {
     "name": "stdout",
     "output_type": "stream",
     "text": [
      "[58.96196003 55.59915484 55.58368495 52.84653465 50.         48.69924629\n",
      " 49.12362702 46.8508546  44.60367219 43.55241265 43.95435967 47.34320557\n",
      " 46.92962797]\n"
     ]
    }
   ],
   "source": [
    "usa_length = np.array(usa_length)\n",
    "non_usa_length = np.array(non_usa_length)\n",
    "usa_percentage = (usa_length/(usa_length + non_usa_length))*100\n",
    "\n",
    "usa_length = np.array(usa_length)\n",
    "non_usa_length = np.array(non_usa_length)\n",
    "non_us_percentage = (non_usa_length/(usa_length + non_usa_length))*100\n",
    "print(usa_percentage)"
   ]
  },
  {
   "cell_type": "code",
   "execution_count": 11,
   "metadata": {},
   "outputs": [
    {
     "data": {
      "text/html": [
       "<iframe id=\"igraph\" scrolling=\"no\" style=\"border:none;\" seamless=\"seamless\" src=\"https://plot.ly/~yaghdev/8.embed\" height=\"525px\" width=\"100%\"></iframe>"
      ],
      "text/plain": [
       "<plotly.tools.PlotlyDisplay object>"
      ]
     },
     "execution_count": 11,
     "metadata": {},
     "output_type": "execute_result"
    }
   ],
   "source": [
    "usa_per = go.Scatter(\n",
    "    x = year,\n",
    "    y = usa_length,\n",
    "    name = 'USA Percentage'     \n",
    ")\n",
    "\n",
    "non_usa_per = go.Scatter(\n",
    "    x = year,\n",
    "    y = non_usa_length,\n",
    "    name = 'NON USA Percentage'     \n",
    ")\n",
    "\n",
    "\n",
    "data = [usa_per, non_usa_per]\n",
    "py.iplot(data, filename='line')"
   ]
  }
 ],
 "metadata": {
  "kernelspec": {
   "display_name": "Python 3",
   "language": "python",
   "name": "python3"
  },
  "language_info": {
   "codemirror_mode": {
    "name": "ipython",
    "version": 3
   },
   "file_extension": ".py",
   "mimetype": "text/x-python",
   "name": "python",
   "nbconvert_exporter": "python",
   "pygments_lexer": "ipython3",
   "version": "3.6.5"
  }
 },
 "nbformat": 4,
 "nbformat_minor": 2
}
