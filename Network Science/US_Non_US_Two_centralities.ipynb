{
 "cells": [
  {
   "cell_type": "code",
   "execution_count": 66,
   "metadata": {},
   "outputs": [],
   "source": [
    "import pandas as pd\n",
    "import matplotlib.pyplot as plt\n",
    "import plotly\n",
    "import plotly.plotly as py\n",
    "import plotly.graph_objs as go\n",
    "import numpy as np\n",
    "from sklearn import preprocessing\n",
    "import plotly.figure_factory as ff\n",
    "plotly.tools.set_credentials_file(username='yaghdev', api_key='BZvETrFTjtGisnoBsxAP')"
   ]
  },
  {
   "cell_type": "code",
   "execution_count": 67,
   "metadata": {},
   "outputs": [],
   "source": [
    "year = ['2005', '2006', '2007', '2008', '2009', '2010', '2011', '2012', '2013', '2014', '2015', '2016', '2017']\n",
    "page_rank_us = []\n",
    "degree_us = []\n",
    "betweeness_us = []\n",
    "eigenvalue_us = []\n",
    "closeness_us = []\n",
    "for i in year:    \n",
    "    excel_ins = pd.read_excel('C:/Users/Krishan/Downloads/FT50_WOS/insitutional_year_wise_all/Insitutional_'+str(i)+'.xlsx')\n",
    "    excel_ins = excel_ins.loc[excel_ins['Insitute'].apply(lambda x: x[-4:] == 'USA.')]\n",
    "    excel_1 = excel_ins.iloc[:,1:].values\n",
    "    min_max_scaler = preprocessing.MinMaxScaler(feature_range=(0, 1))\n",
    "    x_scaled = min_max_scaler.fit_transform(excel_1)\n",
    "    excel_2 = pd.DataFrame(x_scaled, columns=['eigenvector', 'closeness centrality', 'betweenness centrality', 'page rank', 'degree'])\n",
    "    excel_2['Insitute'] = excel_ins.iloc[:,0].values\n",
    "    degree_us.append(excel_2.corr(method='pearson', min_periods=1).loc['page rank'].values[4])\n",
    "    betweeness_us.append(excel_2.corr(method='pearson', min_periods=1).loc['page rank'].values[2])\n",
    "    closeness_us.append(excel_2.corr(method='pearson', min_periods=1).loc['page rank'].values[1])\n",
    "    eigenvalue_us.append(excel_2.corr(method='pearson', min_periods=1).loc['page rank'].values[0]) "
   ]
  },
  {
   "cell_type": "code",
   "execution_count": 68,
   "metadata": {},
   "outputs": [],
   "source": [
    "year = ['2005', '2006', '2007', '2008', '2009', '2010', '2011', '2012', '2013', '2014', '2015', '2016', '2017']\n",
    "page_rank_nonus = []\n",
    "degree_nonus = []\n",
    "betweeness_nonus = []\n",
    "eigenvalue_nonus = []\n",
    "closeness_nonus = []\n",
    "for i in year:    \n",
    "    excel_ins = pd.read_excel('C:/Users/Krishan/Downloads/FT50_WOS/insitutional_year_wise_all/Insitutional_'+str(i)+'.xlsx')\n",
    "    excel_ins = excel_ins.loc[excel_ins['Insitute'].apply(lambda x: x[-4:] != 'USA.')]\n",
    "    excel_1 = excel_ins.iloc[:,1:].values\n",
    "    min_max_scaler = preprocessing.MinMaxScaler(feature_range=(0, 1))\n",
    "    x_scaled = min_max_scaler.fit_transform(excel_1)\n",
    "    excel_2 = pd.DataFrame(x_scaled, columns=['eigenvector', 'closeness centrality', 'betweenness centrality', 'page rank', 'degree'])\n",
    "    excel_2['Insitute'] = excel_ins.iloc[:,0].values\n",
    "    degree_nonus.append(excel_2.corr(method='pearson', min_periods=1).loc['page rank'].values[4])\n",
    "    betweeness_nonus.append(excel_2.corr(method='pearson', min_periods=1).loc['page rank'].values[2])\n",
    "    closeness_nonus.append(excel_2.corr(method='pearson', min_periods=1).loc['page rank'].values[1])\n",
    "    eigenvalue_nonus.append(excel_2.corr(method='pearson', min_periods=1).loc['page rank'].values[0]) "
   ]
  },
  {
   "cell_type": "code",
   "execution_count": 84,
   "metadata": {},
   "outputs": [
    {
     "data": {
      "text/plain": [
       "Text(0.5,0,'Page Rank - Degree')"
      ]
     },
     "execution_count": 84,
     "metadata": {},
     "output_type": "execute_result"
    },
    {
     "data": {
      "image/png": "[encoded data removed]",
      "text/plain": [
       "<Figure size 576x432 with 1 Axes>"
      ]
     },
     "metadata": {},
     "output_type": "display_data"
    }
   ],
   "source": [
    "fig, ax1 = plt.subplots(figsize=(8, 6))\n",
    "ax1.plot(betweeness_us, degree_us, 'ro', color ='b')\n",
    "ax1.plot(betweeness_nonus, degree_nonus, 'ro', color ='r') \n",
    "\n",
    "X = betweeness_us+betweeness_nonus\n",
    "Y = degree_us+degree_nonus\n",
    "mean_x = np.mean(X)\n",
    "mean_y = np.mean(Y)\n",
    "n = len(X)\n",
    "numer = 0\n",
    "denom = 0\n",
    "for i in range(n):\n",
    "    numer += (X[i] - mean_x) * (Y[i] - mean_y)\n",
    "    denom += (X[i] - mean_x) ** 2\n",
    "    m = numer / denom\n",
    "    c = mean_y - (m * mean_x)\n",
    " \n",
    "max_x = np.max(X)+0.04\n",
    "min_x = np.min(X)-0.04\n",
    "x = np.linspace(min_x, max_x, 1000)\n",
    "y = c + m * x \n",
    "plt.plot(x, y, color='green', label='Regression Line')\n",
    "\n",
    "ax1.legend(['US', 'Non - US'])\n",
    "plt.ylabel('Page Rank - Betweeness')\n",
    "plt.xlabel('Page Rank - Degree')"
   ]
  }
 ],
 "metadata": {
  "kernelspec": {
   "display_name": "Python 3",
   "language": "python",
   "name": "python3"
  },
  "language_info": {
   "codemirror_mode": {
    "name": "ipython",
    "version": 3
   },
   "file_extension": ".py",
   "mimetype": "text/x-python",
   "name": "python",
   "nbconvert_exporter": "python",
   "pygments_lexer": "ipython3",
   "version": "3.6.5"
  }
 },
 "nbformat": 4,
 "nbformat_minor": 2
}
