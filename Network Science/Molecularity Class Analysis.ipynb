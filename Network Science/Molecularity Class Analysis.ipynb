{
 "cells": [
  {
   "cell_type": "code",
   "execution_count": 62,
   "metadata": {},
   "outputs": [],
   "source": [
    "import pandas as pd\n",
    "import matplotlib.pyplot as plt\n",
    "import plotly\n",
    "import plotly.plotly as py\n",
    "import plotly.graph_objs as go\n",
    "import numpy as np\n",
    "plotly.tools.set_credentials_file(username='yaghdev', api_key='BZvETrFTjtGisnoBsxAP')"
   ]
  },
  {
   "cell_type": "code",
   "execution_count": 79,
   "metadata": {},
   "outputs": [
    {
     "name": "stdout",
     "output_type": "stream",
     "text": [
      "2848\n",
      "2031\n",
      "4       4879\n",
      "16      4627\n",
      "518     1062\n",
      "28       846\n",
      "157      810\n",
      "179      767\n",
      "562      767\n",
      "257      643\n",
      "139      595\n",
      "820      505\n",
      "133      483\n",
      "340      481\n",
      "1265     479\n",
      "3        472\n",
      "11       444\n",
      "Name: modularity_class, dtype: int64\n",
      "Economics                                       1957\n",
      "Management                                       773\n",
      "Operations Research &#38; Management Science     419\n",
      "Business                                         349\n",
      "Statistics &#38; Probability                     348\n",
      "Name: wc, dtype: int64\n",
      "Management                                      1423\n",
      "Business                                         745\n",
      "Operations Research &#38; Management Science     638\n",
      "Economics                                        551\n",
      "Ethics                                           342\n",
      "Name: wc, dtype: int64\n",
      "Management                                      460\n",
      "Business                                        136\n",
      "Psychology, Social                               98\n",
      "Ethics                                           92\n",
      "Operations Research &#38; Management Science     92\n",
      "Name: wc, dtype: int64\n"
     ]
    }
   ],
   "source": [
    "year = ['2005', '2006', '2007', '2008', '2009', '2010', '2011', '2012', '2013']\n",
    "\n",
    "FT50_jor = []\n",
    "non_FT50_jor = []\n",
    "whole_FT50 = []\n",
    "\n",
    "excel = pd.read_csv('C:/Users/Krishan/Downloads/FT50_WOS/insitutional_year_wise_all/insitutional_whole_with_wc.csv')\n",
    "\n",
    "excel= excel.sort_values(by='modularity_class', ascending=True)\n",
    "#excel.loc[(excel['modularity_class'] > 100) & (excel['modularity_class'] <= 200), ['Id', 'modularity_class']] \n",
    "excel['modularity_class'].value_counts()\n",
    "\n",
    "#excel['modularity_class'].value_counts()\n",
    "excel.loc[(excel['modularity_class'] == 4)]['wc'].value_counts()\n",
    "usa_count = excel.loc[(excel['modularity_class'] == 4) & (excel['Label'].apply(lambda x: x[-4:] == 'USA.'))]\n",
    "nonusa_count = excel.loc[(excel['modularity_class'] ==4) & (excel['Label'].apply(lambda x: x[-4:] != 'USA.'))]\n",
    "print(len(usa_count))\n",
    "print(len(nonusa_count))\n",
    "print(excel['modularity_class'].value_counts()[:15])\n",
    "print(excel.loc[(excel['modularity_class'] == 4)]['wc'].value_counts()[:5])\n",
    "print(excel.loc[(excel['modularity_class'] == 16)]['wc'].value_counts()[:5])\n",
    "print(excel.loc[(excel['modularity_class'] == 518)]['wc'].value_counts()[:5])"
   ]
  },
  {
   "cell_type": "code",
   "execution_count": null,
   "metadata": {},
   "outputs": [],
   "source": []
  }
 ],
 "metadata": {
  "kernelspec": {
   "display_name": "Python 3",
   "language": "python",
   "name": "python3"
  },
  "language_info": {
   "codemirror_mode": {
    "name": "ipython",
    "version": 3
   },
   "file_extension": ".py",
   "mimetype": "text/x-python",
   "name": "python",
   "nbconvert_exporter": "python",
   "pygments_lexer": "ipython3",
   "version": "3.6.5"
  }
 },
 "nbformat": 4,
 "nbformat_minor": 2
}
